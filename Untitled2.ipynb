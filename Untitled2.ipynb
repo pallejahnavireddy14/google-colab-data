{
  "nbformat": 4,
  "nbformat_minor": 0,
  "metadata": {
    "colab": {
      "provenance": [],
      "toc_visible": true,
      "authorship_tag": "ABX9TyMDqe+CCHgn/hCqQuaLIOCv",
      "include_colab_link": true
    },
    "kernelspec": {
      "name": "python3",
      "display_name": "Python 3"
    },
    "language_info": {
      "name": "python"
    }
  },
  "cells": [
    {
      "cell_type": "markdown",
      "metadata": {
        "id": "view-in-github",
        "colab_type": "text"
      },
      "source": [
        "<a href=\"https://colab.research.google.com/github/pallejahnavireddy14/google-colab-data/blob/main/Untitled2.ipynb\" target=\"_parent\"><img src=\"https://colab.research.google.com/assets/colab-badge.svg\" alt=\"Open In Colab\"/></a>"
      ]
    },
    {
      "cell_type": "code",
      "execution_count": null,
      "metadata": {
        "id": "ssbtknopEJbb"
      },
      "outputs": [],
      "source": [
        "n = int(input())\n",
        "arr = list(map(int,input().split()))\n",
        "zero_count = 0;\n",
        "positive_count = 0;\n",
        "Negative_count = 0;\n",
        "for i in range(n):\n",
        "  if arr[i] == 0:\n",
        "    zero_count += 1\n",
        "  elif arr[i] > 0:\n",
        "    positive_count += 1\n",
        "  else:\n",
        "    positive_count += 1\n",
        "print(zero_count,Negative-count,positive_count)"
      ]
    },
    {
      "cell_type": "code",
      "source": [
        "n = int(input())\n",
        "arr = list(map(int,input().split())\n",
        "reverse_array = arr[::-1]\n",
        "print(*reverse_array)"
      ],
      "metadata": {
        "id": "zmuz3BDhHNXG"
      },
      "execution_count": null,
      "outputs": []
    },
    {
      "cell_type": "code",
      "source": [
        "n = int(input())\n",
        "arr = list(map(int,input().split()))\n",
        "odd_sum = 0\n",
        "even_sum = 0\n",
        "for i in range(n):\n",
        "  if n % 2 != 0:\n",
        "    odd_sum += arr[i]\n",
        "  else:\n",
        "    even_sum += arr[i]\n",
        "print(odd_sum,even_sum)"
      ],
      "metadata": {
        "id": "zHUygPxvJmVa"
      },
      "execution_count": null,
      "outputs": []
    },
    {
      "cell_type": "code",
      "source": [],
      "metadata": {
        "id": "dgOukNbDKZ8F"
      },
      "execution_count": null,
      "outputs": []
    }
  ]
}